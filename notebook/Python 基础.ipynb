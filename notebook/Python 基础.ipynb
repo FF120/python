{
 "cells": [
  {
   "cell_type": "markdown",
   "metadata": {},
   "source": [
    "1. 输入若干行，输出若干行，直到遇到结束符号程序终止"
   ]
  },
  {
   "cell_type": "code",
   "execution_count": null,
   "metadata": {
    "collapsed": false
   },
   "outputs": [],
   "source": [
    "while True:\n",
    "    try:\n",
    "        (x, y) = (int(x) for x in raw_input().split())\n",
    "        print x + y\n",
    "    except EOFError:\n",
    "        break"
   ]
  },
  {
   "cell_type": "markdown",
   "metadata": {},
   "source": [
    "2. 直到遇到某个符号程序结束"
   ]
  },
  {
   "cell_type": "code",
   "execution_count": null,
   "metadata": {
    "collapsed": true
   },
   "outputs": [],
   "source": [
    "while True:\n",
    "    lineString = raw_input()\n",
    "    lineLists = lineString.split()\n",
    "    num = string.atoi(lineLists[0])\n",
    "    if num == -1:\n",
    "        break\n",
    "    "
   ]
  },
  {
   "cell_type": "markdown",
   "metadata": {},
   "source": [
    "3. 指定编码格式"
   ]
  },
  {
   "cell_type": "code",
   "execution_count": null,
   "metadata": {
    "collapsed": true
   },
   "outputs": [],
   "source": [
    "# -*- coding: utf-8 -*-"
   ]
  },
  {
   "cell_type": "markdown",
   "metadata": {},
   "source": [
    "4. 从标准输入读入数据，每次读入一行"
   ]
  },
  {
   "cell_type": "code",
   "execution_count": null,
   "metadata": {
    "collapsed": true
   },
   "outputs": [],
   "source": [
    "lineString = raw_input()\n",
    "lineLists = a.split() #按照空格分开,返回list\n",
    "import string\n",
    "num = string.atoi(line[0]) #将字符串转换成数字格式"
   ]
  },
  {
   "cell_type": "markdown",
   "metadata": {},
   "source": [
    "5. 标准输出，以行为单位输出"
   ]
  },
  {
   "cell_type": "code",
   "execution_count": null,
   "metadata": {
    "collapsed": true
   },
   "outputs": [],
   "source": [
    "print \"ppp\""
   ]
  },
  {
   "cell_type": "markdown",
   "metadata": {},
   "source": [
    "6. 单字符输出"
   ]
  },
  {
   "cell_type": "code",
   "execution_count": null,
   "metadata": {
    "collapsed": true
   },
   "outputs": [],
   "source": [
    "import sys\n",
    "sys.stdout.write(str(lists[i][j])) #只能是字符串类型的，str()可以把其他类型转换成字符串类型\n",
    "sys.stdout.write(' ')"
   ]
  },
  {
   "cell_type": "code",
   "execution_count": null,
   "metadata": {
    "collapsed": true
   },
   "outputs": [],
   "source": [
    "#7. for循环\n",
    "for i in range(10)：\n",
    "    print i   #i从0到9，会占用10个空间\n",
    "for i in xrange(10):\n",
    "    print i   #i从0到9,每次循环的时候才生成i，所以只占用一个空间；range和xrange的用法完全一样，不同的是xrange返回的是迭代器类型，当循环次数非常大时，可以有效的节省空间\n",
    "for i in range(3,10):\n",
    "    print i    #i从3到9\n",
    "for i in range(3,10)[::-1]:\n",
    "    print i    #i从9到3\n",
    "list(xrange(10,1,-1))  # [10, 9, 8, 7, 6, 5, 4, 3, 2]"
   ]
  },
  {
   "cell_type": "markdown",
   "metadata": {},
   "source": [
    "* 数学运算"
   ]
  },
  {
   "cell_type": "code",
   "execution_count": null,
   "metadata": {
    "collapsed": true
   },
   "outputs": [],
   "source": [
    "import math\n",
    "math.sqrt(9.0)  #开方"
   ]
  },
  {
   "cell_type": "markdown",
   "metadata": {},
   "source": [
    "* 模拟进栈和出栈"
   ]
  },
  {
   "cell_type": "code",
   "execution_count": null,
   "metadata": {
    "collapsed": true
   },
   "outputs": [],
   "source": [
    "list = []\n",
    "list.append('a')\n",
    "list.pop()\n",
    "list = [1,2,3,4]\n",
    "list.pop(1) #弹出下标是1的元素"
   ]
  },
  {
   "cell_type": "markdown",
   "metadata": {},
   "source": [
    "* 判断字符串是否只包含数字和字母"
   ]
  },
  {
   "cell_type": "code",
   "execution_count": null,
   "metadata": {
    "collapsed": false
   },
   "outputs": [],
   "source": [
    "s = 'abc123'\n",
    "s.isalnum()    #数字和字母\n",
    "s = 'abc'\n",
    "s.isalpha()  #字母\n",
    "s = '123'\n",
    "s.isdigit() #数字"
   ]
  },
  {
   "cell_type": "markdown",
   "metadata": {},
   "source": [
    "* 从一个数组中按照下标去掉某些元素,使用np.delete(a,b,axis=none),从a中去掉以b中元素为下标的元素，axis指定下标代表数组的第几维"
   ]
  },
  {
   "cell_type": "code",
   "execution_count": 2,
   "metadata": {
    "collapsed": false
   },
   "outputs": [
    {
     "name": "stdout",
     "output_type": "stream",
     "text": [
      "[ 50 100]\n"
     ]
    }
   ],
   "source": [
    "import numpy as np\n",
    "a = np.array([1,2,3,4])\n",
    "b = np.array([10,20,30,40,50,100])\n",
    "c = np.delete(b,a-1,axis=0)\n",
    "print c"
   ]
  }
 ],
 "metadata": {
  "kernelspec": {
   "display_name": "Python 2",
   "language": "python",
   "name": "python2"
  },
  "language_info": {
   "codemirror_mode": {
    "name": "ipython",
    "version": 2
   },
   "file_extension": ".py",
   "mimetype": "text/x-python",
   "name": "python",
   "nbconvert_exporter": "python",
   "pygments_lexer": "ipython2",
   "version": "2.7.11"
  }
 },
 "nbformat": 4,
 "nbformat_minor": 0
}
