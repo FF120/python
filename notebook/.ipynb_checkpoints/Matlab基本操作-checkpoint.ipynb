{
 "cells": [
  {
   "cell_type": "markdown",
   "metadata": {},
   "source": [
    "# Matlab 文件和目录操作\n",
    "\n",
    "## 目录操作\n",
    "- 切换目录\n",
    "cd('c:/windows')\n",
    "- 列出目录下的文件\n",
    "dir('*')  \n",
    "dir('*.txt')\n",
    "dir('2015*')\n",
    "- 删除文件\n",
    "delete('*.txt') 删除当前目录下的文件，给出绝对地址的话删除绝对地址的文件\n",
    "## 数据格式转换\n",
    "- cell to string\n",
    "string_data = cell2mat(cell_data)"
   ]
  },
  {
   "cell_type": "code",
   "execution_count": 2,
   "metadata": {
    "collapsed": false
   },
   "outputs": [
    {
     "name": "stdout",
     "output_type": "stream",
     "text": [
      "ans =\r\n",
      "\r\n",
      "C:\\Users\\FF120\\notebook\n"
     ]
    }
   ],
   "source": [
    "cd('C:\\Users\\FF120\\notebook')\n",
    "pwd()  % 获得当前目录"
   ]
  },
  {
   "cell_type": "code",
   "execution_count": null,
   "metadata": {
    "collapsed": false
   },
   "outputs": [],
   "source": [
    "dir('m*') % 列出当前目录下的文件，此处可以使用正则表达式"
   ]
  },
  {
   "cell_type": "code",
   "execution_count": 47,
   "metadata": {
    "collapsed": false
   },
   "outputs": [
    {
     "name": "stdout",
     "output_type": "stream",
     "text": [
      ".                                                                                             \r\n",
      "..                                                                                            \r\n",
      "All Users                                                                                     \r\n",
      "Default                                                                                       \r\n",
      "Default User                                                                                  \r\n",
      "FF120                                                                                         \r\n",
      "NTUser.dat                                                                                    \r\n",
      "NTUser.dat.LOG1                                                                               \r\n",
      "NTUser.dat.LOG2                                                                               \r\n",
      "NTUser.dat{b16d3a43-39b4-11e6-ad1b-488ad21c46fc}.TM.blf                                       \r\n",
      "NTUser.dat{b16d3a43-39b4-11e6-ad1b-488ad21c46fc}.TMContainer00000000000000000001.regtrans-ms  \r\n",
      "NTUser.dat{b16d3a43-39b4-11e6-ad1b-488ad21c46fc}.TMContainer00000000000000000002.regtrans-ms  \r\n",
      "Public                                                                                        \r\n",
      "RedisService                                                                                  \r\n",
      "Seemeloo1                                                                                     \r\n",
      "XX120                                                                                         \r\n",
      "desktop.ini\n"
     ]
    }
   ],
   "source": [
    "dir('C:\\users\\') %列出某个目录下面的所有文件"
   ]
  },
  {
   "cell_type": "code",
   "execution_count": null,
   "metadata": {
    "collapsed": false,
    "scrolled": true
   },
   "outputs": [],
   "source": [
    "ls()    %列出当前目录下的所有文件，功能和dir()差不多"
   ]
  },
  {
   "cell_type": "code",
   "execution_count": 49,
   "metadata": {
    "collapsed": false
   },
   "outputs": [],
   "source": [
    "if exist('test','dir') == 0\n",
    "    mkdir('test')    %在当前目录下创建一个文件夹\n",
    "else \n",
    "    rmdir('test')     %删除目录\n",
    "    mkdir('test')\n",
    "end"
   ]
  },
  {
   "cell_type": "code",
   "execution_count": 57,
   "metadata": {
    "collapsed": false
   },
   "outputs": [],
   "source": [
    "if exist('test1.txt','file')\n",
    "    delete('test1.txt') %删除文件\n",
    "file_id = fopen('test1.txt')\n",
    "a = [1 2]\n",
    "fprintf(file_id,'%d%d',a(1),a(2))\n",
    "end\n",
    "    "
   ]
  },
  {
   "cell_type": "code",
   "execution_count": 51,
   "metadata": {
    "collapsed": false
   },
   "outputs": [
    {
     "name": "stdout",
     "output_type": "stream",
     "text": [
      "ans =\r\n",
      "\r\n",
      "C:\\Users\\FF120\\notebook\\test\n"
     ]
    }
   ],
   "source": []
  }
 ],
 "metadata": {
  "kernelspec": {
   "display_name": "Matlab",
   "language": "matlab",
   "name": "matlab"
  },
  "language_info": {
   "codemirror_mode": "octave",
   "file_extension": ".m",
   "help_links": [
    {
     "text": "MetaKernel Magics",
     "url": "https://github.com/calysto/metakernel/blob/master/metakernel/magics/README.md"
    }
   ],
   "mimetype": "text/x-octave",
   "name": "matlab",
   "version": "0.10.1"
  }
 },
 "nbformat": 4,
 "nbformat_minor": 0
}
